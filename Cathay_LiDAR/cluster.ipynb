{
 "cells": [
  {
   "cell_type": "code",
   "execution_count": null,
   "metadata": {},
   "outputs": [],
   "source": [
    "%load_ext autoreload\n",
    "%autoreload 2\n",
    "\n",
    "import numpy as np\n",
    "import open3d as o3d\n",
    "\n",
    "\n",
    "from objects_clustering import *\n",
    "from tqdm import trange"
   ]
  },
  {
   "cell_type": "code",
   "execution_count": null,
   "metadata": {},
   "outputs": [],
   "source": [
    "\n",
    "file_path = 'C:/Users/Hp/Desktop/CathayHackathon/Cathay_pcd/point_cloud.ply'\n",
    "\n",
    "pcd = o3d.io.read_point_cloud(file_path)\n",
    "\n",
    "\n",
    "\n",
    "point_data, color_data = np.asarray(pcd.points, dtype=object), np.asarray(pcd.colors, dtype=object)\n"
   ]
  },
  {
   "cell_type": "code",
   "execution_count": null,
   "metadata": {},
   "outputs": [],
   "source": [
    "def o3d_single_vis(points, colors):\n",
    "\n",
    "    pcd_data = o3d.geometry.PointCloud()\n",
    "\n",
    "    pcd_data.points = o3d.utility.Vector3dVector(points)\n",
    "    pcd_data.colors = o3d.utility.Vector3dVector(colors)\n",
    "\n",
    "    vis = o3d.visualization.Visualizer()\n",
    "    vis.create_window()\n",
    "    vis.add_geometry(pcd_data)\n",
    "    vis.run()\n",
    "    vis.destroy_window()\n",
    "\n",
    "def o3d_cluster_vis(points, colors, random_color_flag = True):\n",
    "\n",
    "    pcd_data = o3d.geometry.PointCloud()\n",
    "    random_colors = np.random.rand(len(points), 3)\n",
    "    \n",
    "    for i in trange(len(points)):\n",
    "        single_pcd_data = o3d.geometry.PointCloud()\n",
    "        single_pcd_data.points = o3d.utility.Vector3dVector(points[i])\n",
    "        if random_color_flag == True:\n",
    "            single_pcd_data.paint_uniform_color(random_colors[i])\n",
    "        else:\n",
    "            single_pcd_data.colors = o3d.utility.Vector3dVector(colors[i])\n",
    "\n",
    "        pcd_data += single_pcd_data\n",
    "\n",
    "    vis = o3d.visualization.Visualizer()\n",
    "    vis.create_window()\n",
    "    vis.add_geometry(pcd_data)\n",
    "    vis.run()\n",
    "    vis.destroy_window()\n",
    "\n",
    "@njit\n",
    "def get_points_from_indices(point_data, indices):\n",
    "    return point_data[np.asarray(indices)]"
   ]
  },
  {
   "cell_type": "code",
   "execution_count": null,
   "metadata": {},
   "outputs": [],
   "source": [
    "o3d_single_vis(point_data, color_data)"
   ]
  },
  {
   "cell_type": "code",
   "execution_count": null,
   "metadata": {},
   "outputs": [],
   "source": [
    "grid_data = Initialize_Grid(point_data = point_data, unit_size = [0.1, 0.1, 0.1])\n",
    "\n",
    "grid, points_to_grid_dict, grid_to_points_dict, valid_bottom_tiles_by_xy, stacked_bottom_tiles_to_points_by_xy = grid_data"
   ]
  },
  {
   "cell_type": "code",
   "execution_count": null,
   "metadata": {},
   "outputs": [],
   "source": [
    "# point_data = np.random.rand(10000000, 3)\n",
    "\n",
    "cluster_indices = object_cluster(point_data, unit_size = [0.1, 0.1, 0.05])\n",
    "\n",
    "cluster_points = [get_points_from_indices(point_data, i) for i in cluster_indices]\n",
    "cluster_colors = [get_points_from_indices(color_data, i) for i in cluster_indices]\n",
    "\n",
    "o3d_cluster_vis(cluster_points, cluster_colors, random_color_flag = False)"
   ]
  },
  {
   "cell_type": "code",
   "execution_count": null,
   "metadata": {},
   "outputs": [],
   "source": [
    "file_num = 0\n",
    "for cluster, color in zip(cluster_points, cluster_colors):\n",
    "\n",
    "    point_cloud = o3d.geometry.PointCloud()\n",
    "    point_cloud.points = o3d.utility.Vector3dVector(np.asarray(cluster))\n",
    "    point_cloud.colors = o3d.utility.Vector3dVector(np.asarray(color))\n",
    "\n",
    "    # o3d.io.write_point_cloud('luggage'+str(file_num)+'.ply',point_cloud)\n",
    "\n",
    "\n",
    "\n",
    "## save clusters"
   ]
  }
 ],
 "metadata": {
  "kernelspec": {
   "display_name": "highway_pcd_test",
   "language": "python",
   "name": "python3"
  },
  "language_info": {
   "codemirror_mode": {
    "name": "ipython",
    "version": 3
   },
   "file_extension": ".py",
   "mimetype": "text/x-python",
   "name": "python",
   "nbconvert_exporter": "python",
   "pygments_lexer": "ipython3",
   "version": "3.8.18"
  },
  "orig_nbformat": 4
 },
 "nbformat": 4,
 "nbformat_minor": 2
}
